{
 "cells": [
  {
   "cell_type": "code",
   "execution_count": 27,
   "metadata": {
    "colab": {
     "base_uri": "https://localhost:8080/",
     "height": 299
    },
    "colab_type": "code",
    "id": "owuMk_guREX5",
    "outputId": "ba7cd846-f092-473b-e412-32461a6d779b"
   },
   "outputs": [],
   "source": [
    "import numpy as np\n",
    "import matplotlib.pyplot as plt\n",
    "import mnist\n",
    "from keras.models import Sequential\n",
    "from keras.layers import Input, Conv2D, MaxPooling2D, GlobalMaxPooling2D, Dense, Flatten\n",
    "from tensorflow.keras.utils import to_categorical\n",
    "from keras.datasets import cifar10\n",
    "\n",
    "from scripts.load_data import load_train, load_test"
   ]
  },
  {
   "cell_type": "markdown",
   "metadata": {},
   "source": [
    "## CNN bouwen"
   ]
  },
  {
   "cell_type": "code",
   "execution_count": 3,
   "metadata": {
    "colab": {},
    "colab_type": "code",
    "id": "p_lLaBNewZk0"
   },
   "outputs": [],
   "source": [
    "# Het importeren en bewerken van de data \n",
    "train_images, train_labels = load_train()\n",
    "test_images, test_labels = load_test()\n",
    "\n",
    "# Normalizeren van de images\n",
    "train_images = (train_images / 255) - 0.5\n",
    "test_images = (test_images / 255) - 0.5\n",
    "\n",
    "# Reshapen van de images zodat ze de juiste dimensies hebben\n",
    "train_images = np.expand_dims(train_images, axis=3)\n",
    "test_images = np.expand_dims(test_images, axis=3)"
   ]
  },
  {
   "cell_type": "code",
   "execution_count": 62,
   "metadata": {
    "colab": {},
    "colab_type": "code",
    "id": "nFleZ8yEyFtk"
   },
   "outputs": [
    {
     "name": "stdout",
     "output_type": "stream",
     "text": [
      "(28, 31, 1)\n",
      "Model: \"sequential_45\"\n",
      "_________________________________________________________________\n",
      " Layer (type)                Output Shape              Param #   \n",
      "=================================================================\n",
      " conv2d_131 (Conv2D)         (None, 13, 15, 32)        320       \n",
      "                                                                 \n",
      " conv2d_132 (Conv2D)         (None, 11, 13, 32)        9248      \n",
      "                                                                 \n",
      " max_pooling2d_45 (MaxPoolin  (None, 3, 4, 32)         0         \n",
      " g2D)                                                            \n",
      "                                                                 \n",
      " conv2d_133 (Conv2D)         (None, 1, 2, 32)          9248      \n",
      "                                                                 \n",
      "=================================================================\n",
      "Total params: 18,816\n",
      "Trainable params: 18,816\n",
      "Non-trainable params: 0\n",
      "_________________________________________________________________\n",
      "Model: \"sequential_45\"\n",
      "_________________________________________________________________\n",
      " Layer (type)                Output Shape              Param #   \n",
      "=================================================================\n",
      " conv2d_131 (Conv2D)         (None, 13, 15, 32)        320       \n",
      "                                                                 \n",
      " conv2d_132 (Conv2D)         (None, 11, 13, 32)        9248      \n",
      "                                                                 \n",
      " max_pooling2d_45 (MaxPoolin  (None, 3, 4, 32)         0         \n",
      " g2D)                                                            \n",
      "                                                                 \n",
      " conv2d_133 (Conv2D)         (None, 1, 2, 32)          9248      \n",
      "                                                                 \n",
      " flatten_20 (Flatten)        (None, 64)                0         \n",
      "                                                                 \n",
      " dense_20 (Dense)            (None, 10)                650       \n",
      "                                                                 \n",
      "=================================================================\n",
      "Total params: 19,466\n",
      "Trainable params: 19,466\n",
      "Non-trainable params: 0\n",
      "_________________________________________________________________\n"
     ]
    }
   ],
   "source": [
    "# Onze CNN\n",
    "\n",
    "# Stap 1: bepaal hoeveel filters je wilt, hoe groot je filter size moet zijn (let op je filter size mag niet te groot zijn vergeleken met je images), en wat je pool size is. \n",
    "num_filters = 32\n",
    "filter_size = 3\n",
    "pool_size = 3\n",
    "\n",
    "# Stap 2: maak het model.\n",
    "#    In de array die je aan sequential meegeeft, zet je alle layers die in het model moeten:\n",
    "#    Conv2D, parameters: num_filters, filter_size, input_shape=(x, y, z)\n",
    "#    MaxPooling2D, parameters: pool_size=pool_size\n",
    "#    Flatten,\n",
    "#    Dense, parameters: aantal outputs, activation='softmax'\n",
    "\n",
    "model = Sequential()\n",
    "model.add(Input(shape=train_images.shape[1:]))\n",
    "model.add(Conv2D(num_filters, filter_size, strides=2, activation=\"relu\"))\n",
    "model.add(Conv2D(num_filters, filter_size, activation='relu'))\n",
    "model.add(MaxPooling2D(3))\n",
    "model.add(Conv2D(num_filters, filter_size, activation=\"relu\"))\n",
    "model.summary()\n",
    "model.add(Flatten())\n",
    "model.add(Dense(10, activation='sigmoid'))\n",
    "model.summary()\n"
   ]
  },
  {
   "cell_type": "code",
   "execution_count": 63,
   "metadata": {
    "colab": {},
    "colab_type": "code",
    "id": "he8Zs-Sd2TID"
   },
   "outputs": [
    {
     "name": "stdout",
     "output_type": "stream",
     "text": [
      "Epoch 1/8\n",
      "1875/1875 [==============================] - 13s 7ms/step - loss: 0.2150 - accuracy: 0.9359\n",
      "Epoch 2/8\n",
      "1875/1875 [==============================] - 13s 7ms/step - loss: 0.0722 - accuracy: 0.9773\n",
      "Epoch 3/8\n",
      "1875/1875 [==============================] - 13s 7ms/step - loss: 0.0527 - accuracy: 0.9839\n",
      "Epoch 4/8\n",
      "1875/1875 [==============================] - 14s 7ms/step - loss: 0.0442 - accuracy: 0.9863\n",
      "Epoch 5/8\n",
      "1875/1875 [==============================] - 13s 7ms/step - loss: 0.0366 - accuracy: 0.9885\n",
      "Epoch 6/8\n",
      "1875/1875 [==============================] - 13s 7ms/step - loss: 0.0315 - accuracy: 0.9898\n",
      "Epoch 7/8\n",
      "1875/1875 [==============================] - 13s 7ms/step - loss: 0.0265 - accuracy: 0.9916\n",
      "Epoch 8/8\n",
      "1875/1875 [==============================] - 13s 7ms/step - loss: 0.0219 - accuracy: 0.9928\n"
     ]
    },
    {
     "data": {
      "text/plain": [
       "<keras.callbacks.History at 0x1c599085bd0>"
      ]
     },
     "execution_count": 63,
     "metadata": {},
     "output_type": "execute_result"
    }
   ],
   "source": [
    "# Stap 3: het compilen van het model. \n",
    "# model.compile parameters: 'adam', loss='categorial_crossentropy', metrics=['accuracy']\n",
    "model.compile('adam', loss='categorical_crossentropy', metrics=['accuracy'])\n",
    "\n",
    "\n",
    "# Stap 4: fit het model. \n",
    "#    Data om op te trainen: train_images, to_categorial(train_labels)\n",
    "#    epochs = 3\n",
    "#    validation_data = test_images, to_categorial(test_labels)\n",
    "model.fit(train_images, to_categorical(train_labels), epochs=8)"
   ]
  },
  {
   "cell_type": "code",
   "execution_count": 64,
   "metadata": {},
   "outputs": [
    {
     "name": "stdout",
     "output_type": "stream",
     "text": [
      "313/313 - 1s - loss: 0.4277 - accuracy: 0.8796 - 696ms/epoch - 2ms/step\n",
      "0.8795999884605408\n"
     ]
    }
   ],
   "source": [
    "# Stap 5: evalueer het model\n",
    "test_loss, test_acc = model.evaluate(test_images, to_categorical(test_labels), verbose=2)\n",
    "print(test_acc)"
   ]
  },
  {
   "cell_type": "code",
   "execution_count": null,
   "metadata": {
    "colab": {},
    "colab_type": "code",
    "id": "pS8vERMeHh8j"
   },
   "outputs": [],
   "source": [
    "# Stap 6: extra layer(s). Wat gebeurt er als je een extra Conv Layer toevoegd aan je model? \n",
    "#    Voeg een extra layer(s) toe en train het model opnieuw. \n",
    "# De accuracy is met 0.01 toegenomen.\n",
    "# Stap 7: parameters. Wat gebeurt er bijvoorbeeld als je geen softmax gebruikt maar een andere activatie? \n",
    "#    Pas op z'n minst 1 parameter aan en train je model opnieuw. \n",
    "# De accuracy is met 0.01 afgenomen."
   ]
  },
  {
   "cell_type": "markdown",
   "metadata": {},
   "source": [
    "## CIFAR-10"
   ]
  },
  {
   "cell_type": "code",
   "execution_count": 89,
   "metadata": {},
   "outputs": [],
   "source": [
    "# Data inladen\n",
    "(train_images10, train_labels10), (test_images10, test_labels10) = cifar10.load_data()\n",
    "\n",
    "# plt.imshow(train_images10[4])\n",
    "# plt.show()\n",
    "\n",
    "# Normalizeren\n",
    "train_images10, test_images10 = train_images10 / 255.0, test_images10 / 255.0"
   ]
  },
  {
   "cell_type": "code",
   "execution_count": 104,
   "metadata": {},
   "outputs": [
    {
     "name": "stdout",
     "output_type": "stream",
     "text": [
      "Model: \"sequential_70\"\n",
      "_________________________________________________________________\n",
      " Layer (type)                Output Shape              Param #   \n",
      "=================================================================\n",
      " conv2d_255 (Conv2D)         (None, 2, 16, 32)         25632     \n",
      "                                                                 \n",
      " conv2d_256 (Conv2D)         (None, 2, 16, 32)         9248      \n",
      "                                                                 \n",
      " max_pooling2d_104 (MaxPooli  (None, 1, 6, 32)         0         \n",
      " ng2D)                                                           \n",
      "                                                                 \n",
      " conv2d_257 (Conv2D)         (None, 1, 6, 32)          9248      \n",
      "                                                                 \n",
      " conv2d_258 (Conv2D)         (None, 1, 6, 32)          9248      \n",
      "                                                                 \n",
      " max_pooling2d_105 (MaxPooli  (None, 1, 2, 32)         0         \n",
      " ng2D)                                                           \n",
      "                                                                 \n",
      " conv2d_259 (Conv2D)         (None, 1, 2, 32)          9248      \n",
      "                                                                 \n",
      " conv2d_260 (Conv2D)         (None, 1, 2, 32)          9248      \n",
      "                                                                 \n",
      " max_pooling2d_106 (MaxPooli  (None, 1, 1, 32)         0         \n",
      " ng2D)                                                           \n",
      "                                                                 \n",
      " flatten_30 (Flatten)        (None, 32)                0         \n",
      "                                                                 \n",
      " dense_32 (Dense)            (None, 10)                330       \n",
      "                                                                 \n",
      "=================================================================\n",
      "Total params: 72,202\n",
      "Trainable params: 72,202\n",
      "Non-trainable params: 0\n",
      "_________________________________________________________________\n"
     ]
    }
   ],
   "source": [
    "# Stap 8: bouw je eigen CNN voor de CIFAR-10 dataset. \n",
    "# Tip: gebruik meerdere Conv2D en MaxPooling layers\n",
    "# LET OP: gebruik 'softmax' alleen bij je laatste Dense layer. Gebruik 'relu' voor de andere Conv2D/Dense layers. \n",
    "model_cif = Sequential()\n",
    "model_cif.add(Input(shape=train_images10.shape[1:]))\n",
    "model_cif.add(Conv2D(32, 5, strides=2, activation='relu', padding='same', data_format='channels_last'))\n",
    "model_cif.add(Conv2D(32, 3, activation='relu', padding='same', data_format='channels_last'))\n",
    "model_cif.add(MaxPooling2D(3, padding='same', data_format='channels_last'))\n",
    "model_cif.add(Conv2D(32, 3, activation='relu', padding='same', data_format='channels_last'))\n",
    "model_cif.add(Conv2D(32, 3, activation='relu', padding='same', data_format='channels_last'))\n",
    "model_cif.add(MaxPooling2D(3, padding='same', data_format='channels_last'))\n",
    "model_cif.add(Conv2D(32, 3, activation='relu', padding='same', data_format='channels_last'))\n",
    "model_cif.add(Conv2D(32, 3, activation='relu', padding='same', data_format='channels_last'))\n",
    "model_cif.add(MaxPooling2D(2, padding='same', data_format='channels_last'))\n",
    "model_cif.add(Flatten(data_format='channels_last'))\n",
    "model_cif.add(Dense(10, activation='softmax'))\n",
    "model_cif.summary()\n",
    "\n",
    "model_cif.compile(\n",
    "    'adam',\n",
    "    loss='categorical_crossentropy',\n",
    "    metrics=['accuracy'],\n",
    ")"
   ]
  },
  {
   "cell_type": "code",
   "execution_count": 105,
   "metadata": {},
   "outputs": [
    {
     "name": "stdout",
     "output_type": "stream",
     "text": [
      "Epoch 1/8\n",
      "1563/1563 [==============================] - 12s 7ms/step - loss: 1.8347 - accuracy: 0.3220 - val_loss: 1.5950 - val_accuracy: 0.4204\n",
      "Epoch 2/8\n",
      "1563/1563 [==============================] - 11s 7ms/step - loss: 1.5648 - accuracy: 0.4262 - val_loss: 1.5169 - val_accuracy: 0.4503\n",
      "Epoch 3/8\n",
      "1563/1563 [==============================] - 11s 7ms/step - loss: 1.4838 - accuracy: 0.4597 - val_loss: 1.4293 - val_accuracy: 0.4832\n",
      "Epoch 4/8\n",
      "1563/1563 [==============================] - 11s 7ms/step - loss: 1.4240 - accuracy: 0.4849 - val_loss: 1.3975 - val_accuracy: 0.4933\n",
      "Epoch 5/8\n",
      "1563/1563 [==============================] - 11s 7ms/step - loss: 1.3774 - accuracy: 0.5009 - val_loss: 1.3460 - val_accuracy: 0.5124\n",
      "Epoch 6/8\n",
      "1563/1563 [==============================] - 11s 7ms/step - loss: 1.3352 - accuracy: 0.5162 - val_loss: 1.3490 - val_accuracy: 0.5112\n",
      "Epoch 7/8\n",
      "1563/1563 [==============================] - 14s 9ms/step - loss: 1.3017 - accuracy: 0.5301 - val_loss: 1.3170 - val_accuracy: 0.5290\n",
      "Epoch 8/8\n",
      "1563/1563 [==============================] - 11s 7ms/step - loss: 1.2742 - accuracy: 0.5402 - val_loss: 1.2882 - val_accuracy: 0.5388\n"
     ]
    },
    {
     "data": {
      "text/plain": [
       "<keras.callbacks.History at 0x1c5aad143a0>"
      ]
     },
     "execution_count": 105,
     "metadata": {},
     "output_type": "execute_result"
    }
   ],
   "source": [
    "model_cif.fit(\n",
    "  train_images10,\n",
    "  to_categorical(train_labels10),\n",
    "  epochs=8,\n",
    "  validation_data=(test_images10, to_categorical(test_labels10)),\n",
    ")"
   ]
  },
  {
   "cell_type": "code",
   "execution_count": 106,
   "metadata": {},
   "outputs": [
    {
     "name": "stdout",
     "output_type": "stream",
     "text": [
      "313/313 - 1s - loss: 1.2882 - accuracy: 0.5388 - 836ms/epoch - 3ms/step\n"
     ]
    }
   ],
   "source": [
    "test_loss, test_acc = model_cif.evaluate(test_images10,  to_categorical(test_labels10), verbose=2)"
   ]
  },
  {
   "cell_type": "code",
   "execution_count": 107,
   "metadata": {},
   "outputs": [
    {
     "name": "stdout",
     "output_type": "stream",
     "text": [
      "0.5388000011444092\n"
     ]
    }
   ],
   "source": [
    "print(test_acc)"
   ]
  },
  {
   "cell_type": "markdown",
   "metadata": {},
   "source": [
    "## Bronnen\n",
    "* https://victorzhou.com/blog/keras-cnn-tutorial/ Bezocht: 9/3/2020\n",
    "* https://www.tensorflow.org/tutorials/images/cnn Bezocht: 13/3/2020"
   ]
  },
  {
   "cell_type": "code",
   "execution_count": null,
   "metadata": {},
   "outputs": [],
   "source": []
  }
 ],
 "metadata": {
  "colab": {
   "collapsed_sections": [],
   "name": "Workshop_CNN.ipynb",
   "provenance": []
  },
  "kernelspec": {
   "display_name": "Python 3 (ipykernel)",
   "language": "python",
   "name": "python3"
  },
  "language_info": {
   "codemirror_mode": {
    "name": "ipython",
    "version": 3
   },
   "file_extension": ".py",
   "mimetype": "text/x-python",
   "name": "python",
   "nbconvert_exporter": "python",
   "pygments_lexer": "ipython3",
   "version": "3.10.0"
  }
 },
 "nbformat": 4,
 "nbformat_minor": 1
}
